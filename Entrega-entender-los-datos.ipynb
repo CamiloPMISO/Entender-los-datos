{
 "cells": [
  {
   "cell_type": "markdown",
   "id": "f237935c-7bdc-4c7d-936f-2d0202274319",
   "metadata": {},
   "source": [
    "# Entrega: Entender los datos (T)"
   ]
  },
  {
   "cell_type": "markdown",
   "id": "6bb887f0-670c-4d31-bc27-7c0a468e7bb8",
   "metadata": {
    "tags": []
   },
   "source": [
    "## Introducción\n",
    "A continuación se realizará la entrega correspondiente a entender los datos para la tabla  **movimientosCopia** que registra el movimiento en inventario de un producto."
   ]
  },
  {
   "cell_type": "markdown",
   "id": "827cc96a-63ab-489c-8abd-b80572106fd4",
   "metadata": {},
   "source": [
    "## Configuración e importe de paquetes"
   ]
  },
  {
   "cell_type": "code",
   "execution_count": 1,
   "id": "f599bd76-221f-49a4-9f2f-56da8fc105d7",
   "metadata": {},
   "outputs": [
    {
     "name": "stderr",
     "output_type": "stream",
     "text": [
      "C:\\Users\\estudiante\\anaconda3\\envs\\Tutoriales\\lib\\site-packages\\tqdm\\auto.py:22: TqdmWarning: IProgress not found. Please update jupyter and ipywidgets. See https://ipywidgets.readthedocs.io/en/stable/user_install.html\n",
      "  from .autonotebook import tqdm as notebook_tqdm\n"
     ]
    }
   ],
   "source": [
    "from pyspark.sql import SparkSession\n",
    "from pyspark.sql import functions\n",
    "from pyspark.sql.types import StructType\n",
    "from pyspark import SparkContext, SparkConf, SQLContext\n",
    "from pyspark.sql.types import FloatType, StringType, IntegerType, DateType\n",
    "from pyspark.sql.functions import udf, col, length, isnan, when, count, year, date_format\n",
    "import pyspark.sql.functions as f\n",
    "import os \n",
    "from datetime import datetime\n",
    "from pyspark.sql import types as t\n",
    "from pandas_profiling import ProfileReport\n",
    "#import matplotlib.pyplot as plt\n",
    "import numpy as np"
   ]
  },
  {
   "cell_type": "code",
   "execution_count": 2,
   "id": "e04de139-b21b-41ce-b466-be91c6e9278f",
   "metadata": {},
   "outputs": [],
   "source": [
    "%matplotlib inline\n",
    "import matplotlib.pyplot as plt"
   ]
  },
  {
   "cell_type": "code",
   "execution_count": 3,
   "id": "204dd579-a7cb-4264-81a1-9c749e95227f",
   "metadata": {},
   "outputs": [],
   "source": [
    "path_jar_driver = 'C:\\Program Files (x86)\\MySQL\\Connector J 8.0\\mysql-connector-java-8.0.28.jar'"
   ]
  },
  {
   "cell_type": "code",
   "execution_count": 4,
   "id": "68d5ebf6-ae64-4c8f-b9b1-e01cb411bdb6",
   "metadata": {},
   "outputs": [
    {
     "name": "stderr",
     "output_type": "stream",
     "text": [
      "C:\\Users\\estudiante\\anaconda3\\envs\\Tutoriales\\lib\\site-packages\\pyspark\\sql\\context.py:79: FutureWarning: Deprecated in 3.0.0. Use SparkSession.builder.getOrCreate() instead.\n",
      "  FutureWarning\n"
     ]
    }
   ],
   "source": [
    "#Configuración de la sesión\n",
    "conf=SparkConf() \\\n",
    "    .set('spark.driver.extraClassPath', path_jar_driver)\n",
    "\n",
    "spark_context = SparkContext(conf=conf)\n",
    "sql_context = SQLContext(spark_context)\n",
    "spark = sql_context.sparkSession\n",
    "\n",
    "db_connection_string = 'jdbc:mysql://157.253.236.116:8080/WWImportersTransactional'\n",
    "# El usuario es su estudiante _i asignado y su contraseña la encontrará en el archivo excel de Coursera \n",
    "db_user = 'Estudiante_42'\n",
    "db_psswd = 'EEU9TG418A'\n",
    "\n",
    "PATH='./'"
   ]
  },
  {
   "cell_type": "code",
   "execution_count": 5,
   "id": "136f7a8b-5b51-42ac-9628-8366aecd9ca1",
   "metadata": {},
   "outputs": [],
   "source": [
    "def obtener_dataframe_de_bd(db_connection_string, sql, db_user, db_psswd):\n",
    "    df_bd = spark.read.format('jdbc')\\\n",
    "        .option('url', db_connection_string) \\\n",
    "        .option('dbtable', sql) \\\n",
    "        .option('user', db_user) \\\n",
    "        .option('password', db_psswd) \\\n",
    "        .option('driver', 'com.mysql.cj.jdbc.Driver') \\\n",
    "        .load()\n",
    "    return df_bd"
   ]
  },
  {
   "cell_type": "code",
   "execution_count": 6,
   "id": "cab5e221-0661-47e6-9f25-264026fbd3c9",
   "metadata": {},
   "outputs": [],
   "source": [
    "def plotHistogramData(data):\n",
    "    binSides, binCounts = [row[0] for row in data.collect()], [row[1] for row in data.collect()]\n",
    "    binSides = [round(i, 2) for i in binSides]\n",
    "    N = len(binCounts)\n",
    "    ind = np.arange(N)\n",
    "    width = 1\n",
    "\n",
    "    fig, ax = plt.subplots()\n",
    "    rects1 = ax.bar(ind+0.5, binCounts, width, color='b')\n",
    "    \n",
    "    fig.set_size_inches(1.3*N, 8)\n",
    "\n",
    "    ax.set_ylabel('Frecuencia')\n",
    "    ax.set_xlabel('Rango')\n",
    "    ax.set_title('Histograma')\n",
    "    ax.set_xticks(np.arange(N))\n",
    "    ax.set_xticklabels(binSides)\n",
    "\n",
    "    plt.show()"
   ]
  },
  {
   "cell_type": "code",
   "execution_count": 7,
   "id": "47775412-9a79-4bf6-bd65-c4e6ff7fa696",
   "metadata": {},
   "outputs": [],
   "source": [
    "def contar_vacios(df):\n",
    "    resultados = []\n",
    "    for c in df.columns:\n",
    "        vacios_null = df.filter(df[c].isNull()).count()\n",
    "        vacios_empty_string = df.filter(df[c] == \"\").count()\n",
    "        if vacios_null!=0 or vacios_empty_string !=0:\n",
    "            print('número de vacíos para columna '+c+': '+str( vacios_null + vacios_empty_string  ))\n",
    "            resultados.append(vacios_null + vacios_empty_string)\n",
    "    return resultados\n",
    "\n",
    "def cardinalidad(df):\n",
    "    resultado = {}\n",
    "    for c in df.columns:\n",
    "        cardinalidad = df.select(col(c)).distinct().count()\n",
    "        if cardinalidad>=df.count()*0.5:\n",
    "            resultado[c] = cardinalidad\n",
    "    return resultado"
   ]
  },
  {
   "cell_type": "markdown",
   "id": "406ca0e8-0758-4c25-b60d-98bc974584a4",
   "metadata": {},
   "source": [
    "## Perfilamiento de los datos"
   ]
  },
  {
   "cell_type": "markdown",
   "id": "24c2e94d-c5b1-434d-8721-e9d5ee9f0dbf",
   "metadata": {},
   "source": [
    "### Información dada por la organización relacionada con los datos\n",
    "\n",
    "* La cantidad máxima de productos movidos es 50 millones por viaje\n",
    "* Existen 236.668 movimientos de producto realizados desde 2013\n",
    "* Los movimientos están relacionados con 228.265 clientes\n",
    "* El formato de fechas manejado es YYYY-MM-DD HH:MM:SS\n",
    "* Actualmente tenemos 13 proveedores"
   ]
  },
  {
   "cell_type": "markdown",
   "id": "bd8a796a-2c94-48a5-8df7-8215e5dc16ef",
   "metadata": {},
   "source": [
    "#### Cargue de datos"
   ]
  },
  {
   "cell_type": "code",
   "execution_count": 8,
   "id": "c77f7f0d-7e50-4a47-bbcf-6de991cea932",
   "metadata": {},
   "outputs": [],
   "source": [
    "sql_movimientos = 'WWImportersTransactional.movimientosCopia'"
   ]
  },
  {
   "cell_type": "code",
   "execution_count": 9,
   "id": "183c031e-2012-4579-817e-b45f17729c61",
   "metadata": {},
   "outputs": [],
   "source": [
    "movimientos = obtener_dataframe_de_bd(db_connection_string, sql_movimientos, db_user, db_psswd)"
   ]
  },
  {
   "cell_type": "code",
   "execution_count": 10,
   "id": "bb60b6cb-e81f-496d-a491-a4a0b6710c5e",
   "metadata": {},
   "outputs": [
    {
     "name": "stdout",
     "output_type": "stream",
     "text": [
      "+---------------------+----------+-----------------+---------+---------+-----------+---------------+----------------+--------+\n",
      "|TransaccionProductoID|ProductoID|TipoTransaccionID|ClienteID|InvoiceID|ProveedorID|OrdenDeCompraID|FechaTransaccion|Cantidad|\n",
      "+---------------------+----------+-----------------+---------+---------+-----------+---------------+----------------+--------+\n",
      "|               118903|       217|               10|    476.0|  24904.0|           |               |     Apr 25,2014|   -40.0|\n",
      "|               286890|       135|               10|     33.0|  60117.0|           |               |     Dec 10,2015|    -7.0|\n",
      "|               285233|       111|               10|    180.0|  59768.0|           |               |     Dec 04,2015|    -2.0|\n",
      "|               290145|       213|               10|     33.0|  60795.0|           |               |     Dec 23,2015|    -3.0|\n",
      "|               247492|        90|               10|     55.0|  51851.0|           |               |     Jul 27,2015|   -24.0|\n",
      "+---------------------+----------+-----------------+---------+---------+-----------+---------------+----------------+--------+\n",
      "only showing top 5 rows\n",
      "\n"
     ]
    }
   ],
   "source": [
    "movimientos.show(5)"
   ]
  },
  {
   "cell_type": "markdown",
   "id": "b588b4f4-6d86-4d4d-8066-93c78c46a4eb",
   "metadata": {},
   "source": [
    "Como puede observar en la tabla de movimientos tenemos información **relacionada con un tipo de transacción  que realizo un cliente de una cantidad de productos en una fecha especifica, adicional muestra información del recibo, proovedor y orden de compra.**. A continuación vemos el significado de cada campo: \n",
    "\n",
    "TransaccionProductoID -> Llave primaria que identifica la transacción\n",
    "\n",
    "ProductoID -> Llave foranea que hace la relación con la tabla producto, representa el producto que fue extraido o agregado en el inventario\n",
    "\n",
    "TipoTransaccionID -> Llave foranea que hace la relación con la tabla TipoTransaccion, representa el tipo de transaccion del movimiento\n",
    "\n",
    "ClienteID -> Llave foranea que hace la relación con la tabla Cliente, representa el cliente que hace la compra\n",
    "\n",
    "InvoiceID -> Identificador de la factura\n",
    "\n",
    "ProveedorID -> Llave foranea que hace la relación con la tabla Proveedor, representa el proveedor del producto en movimiento\n",
    "\n",
    "OrdenDeCompraID -> Llave foranea que hace la relación con la tabla de Ordenes, representa el id de la orden de este movimiento\n",
    "\n",
    "FechaTransaccion -> Fecha del movimiento en inventario\n",
    "\n",
    "Cantidad -> Cantidad de productos que se retiraron/ingresaron a inventario"
   ]
  },
  {
   "cell_type": "code",
   "execution_count": 11,
   "id": "41936aa0-24a6-41a3-8472-127633091f54",
   "metadata": {},
   "outputs": [
    {
     "data": {
      "text/plain": [
       "StructType(List(StructField(TransaccionProductoID,IntegerType,true),StructField(ProductoID,IntegerType,true),StructField(TipoTransaccionID,IntegerType,true),StructField(ClienteID,DoubleType,true),StructField(InvoiceID,DoubleType,true),StructField(ProveedorID,StringType,true),StructField(OrdenDeCompraID,StringType,true),StructField(FechaTransaccion,StringType,true),StructField(Cantidad,DoubleType,true)))"
      ]
     },
     "execution_count": 11,
     "metadata": {},
     "output_type": "execute_result"
    }
   ],
   "source": [
    "movimientos.schema"
   ]
  },
  {
   "cell_type": "code",
   "execution_count": 12,
   "id": "8df0f635-2ed0-4e07-9aa3-10dabb590859",
   "metadata": {},
   "outputs": [
    {
     "name": "stdout",
     "output_type": "stream",
     "text": [
      "root\n",
      " |-- TransaccionProductoID: integer (nullable = true)\n",
      " |-- ProductoID: integer (nullable = true)\n",
      " |-- TipoTransaccionID: integer (nullable = true)\n",
      " |-- ClienteID: double (nullable = true)\n",
      " |-- InvoiceID: double (nullable = true)\n",
      " |-- ProveedorID: string (nullable = true)\n",
      " |-- OrdenDeCompraID: string (nullable = true)\n",
      " |-- FechaTransaccion: string (nullable = true)\n",
      " |-- Cantidad: double (nullable = true)\n",
      "\n"
     ]
    }
   ],
   "source": [
    "movimientos.printSchema()"
   ]
  },
  {
   "cell_type": "markdown",
   "id": "ac971e44-286e-4f2e-aa6e-47a4a25b5a46",
   "metadata": {},
   "source": [
    "Podemos ver sobre el tipo de dato que : \n",
    "\n",
    "TransaccionProductoID -> Tipo entero que **debería** tener valor único, variable númerica\n",
    "\n",
    "ProductoID -> Tipo entero, variable categórica\n",
    "\n",
    "TipoTransaccionID -> Tipo entero, variable categórica \n",
    "\n",
    "ClienteID ->  Tipo flotante, variable númerica\n",
    "\n",
    "InvoiceID -> Tipo flotante, variable númerica\n",
    "\n",
    "ProveedorID -> Tipo String, variable númerica \n",
    "\n",
    "OrdenDeCompraID -> Tipo String, variable númerica \n",
    "\n",
    "FechaTransaccion -> Tipo Date , variable númerica \n",
    "\n",
    "Cantidad -> Tipo flotante, variable númerica"
   ]
  },
  {
   "cell_type": "code",
   "execution_count": 13,
   "id": "1ecbc6f3-344d-446a-8acc-4d04dee590f2",
   "metadata": {},
   "outputs": [
    {
     "name": "stdout",
     "output_type": "stream",
     "text": [
      "Número de registros en la tabla movimientos:  204292\n",
      "Número de columnas en la tabla movimientos:  9\n"
     ]
    }
   ],
   "source": [
    "print(\"Número de registros en la tabla movimientos: \", movimientos.count())\n",
    "print(\"Número de columnas en la tabla movimientos: \", len(movimientos.columns))"
   ]
  },
  {
   "cell_type": "markdown",
   "id": "0284d7bc-baa8-4d7b-9483-d2fd121e858d",
   "metadata": {},
   "source": [
    "Podemos ver que tenemos 204292 registros de trasacciones en la tabla **movimientosCopia** y 9 columnas, de las cuales 3 son te tipo entero, 3 son de tipo flotante, 2 son string y una es tipo fecha."
   ]
  },
  {
   "cell_type": "code",
   "execution_count": 14,
   "id": "ba33bd6d-7107-40c5-83a3-e8048b189803",
   "metadata": {},
   "outputs": [
    {
     "name": "stdout",
     "output_type": "stream",
     "text": [
      "Conteo de registros: 204292\n",
      "Conteo de registros únicos: 173659\n"
     ]
    }
   ],
   "source": [
    "print('Conteo de registros: {0}'.format(movimientos.count()))\n",
    "print('Conteo de registros únicos: {0}'.format(movimientos.distinct().count()))"
   ]
  },
  {
   "cell_type": "markdown",
   "id": "0da79fe1-c87d-4db7-aa44-a8918cd9602e",
   "metadata": {},
   "source": [
    "Podemos observar que en realidad se cuentan con 173659 registros únicos, lo otros valores son repetidos. Es importante saber eso porque de aquí en adelante deberiamos mirar solo los registros únicos, ya que puede hacer que varien los verdaderos datos y sus estadisticas"
   ]
  },
  {
   "cell_type": "code",
   "execution_count": 15,
   "id": "005eebbd-eeb1-42a4-a0aa-f1e0031e320e",
   "metadata": {},
   "outputs": [],
   "source": [
    "movimientos_distinc = movimientos.distinct()"
   ]
  },
  {
   "cell_type": "markdown",
   "id": "969e48e6-d6c7-42a4-9432-d45bb9375447",
   "metadata": {},
   "source": [
    "### Revisión de reglas de negocio \n",
    "\n",
    "A continuación procedemos a revisar las reglas de negocio"
   ]
  },
  {
   "cell_type": "markdown",
   "id": "0cfc28cf-ed3d-464f-92b0-da3d9984cfe0",
   "metadata": {},
   "source": [
    "regla 1: La cantidad máxima de productos movidos es 50 millones por viaje"
   ]
  },
  {
   "cell_type": "code",
   "execution_count": 16,
   "id": "3e5e1beb-5e7c-4f55-8928-5ee79bf77a20",
   "metadata": {},
   "outputs": [
    {
     "name": "stdout",
     "output_type": "stream",
     "text": [
      "+-------------+\n",
      "|max(Cantidad)|\n",
      "+-------------+\n",
      "|      67368.0|\n",
      "+-------------+\n",
      "\n"
     ]
    }
   ],
   "source": [
    "movimientos_distinc.agg({\"Cantidad\": \"max\"}).show()"
   ]
  },
  {
   "cell_type": "markdown",
   "id": "25551c20-3721-443c-a80d-ebd8f4b1c2b1",
   "metadata": {},
   "source": [
    "Se debe aclarar con el negocio a qué se refieren por viaje, ya que no se encuentra ningún valor asociado a este. Si nos referimos al mayor número de movimientos que ha tenido una transacción se puede decir que es  67368 y no 50 millones"
   ]
  },
  {
   "cell_type": "markdown",
   "id": "25b644f0-788f-45f5-be76-da6a5071e4c8",
   "metadata": {},
   "source": [
    "regla 2: Existen 236.668 movimientos de producto realizados desde 2013"
   ]
  },
  {
   "cell_type": "code",
   "execution_count": 17,
   "id": "2db6756b-f0e0-4528-a5de-e532568f4686",
   "metadata": {},
   "outputs": [
    {
     "name": "stdout",
     "output_type": "stream",
     "text": [
      "+---------------------+\n",
      "|min(FechaTransaccion)|\n",
      "+---------------------+\n",
      "| 2013-12-31 07:00:...|\n",
      "+---------------------+\n",
      "\n"
     ]
    }
   ],
   "source": [
    "# revisar si la fecha minima es 2013, si hubiera una fecha menor tendriamos que descartar esos registros para el analisis de cantidad de movimeintos\n",
    "movimientos_distinc.agg({\"FechaTransaccion\": \"min\"}).show()"
   ]
  },
  {
   "cell_type": "code",
   "execution_count": 18,
   "id": "c4172864-7253-4d05-bf9c-8ed84766c091",
   "metadata": {},
   "outputs": [
    {
     "name": "stdout",
     "output_type": "stream",
     "text": [
      "Existen  173659  movimientos de producto realizados desde 2013\n"
     ]
    }
   ],
   "source": [
    "print(\"Existen \",movimientos_distinc.select(col('TransaccionProductoID')).count() ,\" movimientos de producto realizados desde 2013\")"
   ]
  },
  {
   "cell_type": "markdown",
   "id": "dd166809-4800-4428-872b-e6c8a5b6a6c5",
   "metadata": {},
   "source": [
    "Podemos ver que hay una menor cantidad de movimientos de productos desde el 2013 (hacen falta 63,009), toca preguntar al negocio si hace falta registros que nos pasen."
   ]
  },
  {
   "cell_type": "markdown",
   "id": "62a8951c-d5e3-40ce-970b-3f4b6839d65e",
   "metadata": {},
   "source": [
    "regla 3: Los movimientos están relacionados con 228.265 clientes"
   ]
  },
  {
   "cell_type": "code",
   "execution_count": 19,
   "id": "0312a7eb-46f5-400c-89a2-ca6ab1489fa1",
   "metadata": {},
   "outputs": [
    {
     "name": "stdout",
     "output_type": "stream",
     "text": [
      "Los movimientos están relacionados con  664  clientes\n"
     ]
    }
   ],
   "source": [
    "print(\"Los movimientos están relacionados con \",movimientos_distinc.select(col('ClienteID')).distinct().count() ,\" clientes\")"
   ]
  },
  {
   "cell_type": "markdown",
   "id": "18007683-69e1-4438-9be4-64b0946fa18e",
   "metadata": {},
   "source": [
    "Podemos ver que hay una cantidad significativamente menor de clientes relacionados a los movimientos (hacen falta 227,601), toca preguntar al negocio si hace falta registros que nos pasen."
   ]
  },
  {
   "cell_type": "markdown",
   "id": "814dd5e4-4d2a-424a-a5ca-de24d6cb6813",
   "metadata": {},
   "source": [
    "regla 4: El formato de fechas manejado es YYYY-MM-DD HH:MM:SS"
   ]
  },
  {
   "cell_type": "code",
   "execution_count": 20,
   "id": "78c8621f-66fe-4dd2-853a-b83bbd568bb5",
   "metadata": {},
   "outputs": [
    {
     "name": "stdout",
     "output_type": "stream",
     "text": [
      "Número total de transacciones:  173659 , número de transacciones con formato correcto:  109405\n"
     ]
    }
   ],
   "source": [
    "regex = \"[0-2]\\d{3}-(0[1-9]|1[0-2])-(0[1-9]|[1-2][0-9]|3[0-1])\"\n",
    "cumplenFormato = movimientos_distinc.filter(movimientos[\"FechaTransaccion\"].rlike(regex))\n",
    "print(\"Número total de transacciones: \", movimientos_distinc.count(), \", número de transacciones con formato correcto: \", cumplenFormato.count())"
   ]
  },
  {
   "cell_type": "code",
   "execution_count": 21,
   "id": "e58c6787-600c-4f88-a158-d2daaeef9539",
   "metadata": {},
   "outputs": [
    {
     "name": "stdout",
     "output_type": "stream",
     "text": [
      "+----------------+\n",
      "|FechaTransaccion|\n",
      "+----------------+\n",
      "|     Aug 04,2014|\n",
      "|     Jan 29,2014|\n",
      "|     Jun 25,2015|\n",
      "|     Feb 18,2015|\n",
      "|     Oct 14,2014|\n",
      "|     Jan 16,2014|\n",
      "|     Jan 09,2015|\n",
      "|     May 08,2015|\n",
      "|     Dec 11,2015|\n",
      "|     Mar 01,2014|\n",
      "|     Aug 12,2015|\n",
      "|     Sep 19,2014|\n",
      "|     Jan 05,2015|\n",
      "|     Aug 29,2014|\n",
      "|     Sep 29,2014|\n",
      "|     Dec 31,2013|\n",
      "|     Jan 10,2014|\n",
      "|     Feb 10,2015|\n",
      "|     Nov 21,2014|\n",
      "|     Apr 09,2015|\n",
      "+----------------+\n",
      "only showing top 20 rows\n",
      "\n"
     ]
    },
    {
     "data": {
      "text/plain": [
       "(64254, None)"
      ]
     },
     "execution_count": 21,
     "metadata": {},
     "output_type": "execute_result"
    }
   ],
   "source": [
    "noCumplenFormato = movimientos_distinc.filter(~movimientos_distinc[\"FechaTransaccion\"].rlike(regex))\n",
    "noCumplenFormato.count(), noCumplenFormato.select(col(\"FechaTransaccion\")).show()"
   ]
  },
  {
   "cell_type": "markdown",
   "id": "8c6d9ab8-d55a-497f-82d5-ecb91aa3c640",
   "metadata": {},
   "source": [
    "Se puede concluir que hay 64,254 registros cuya fecha no cumple con el formato especificado. Sin embargo, los valores corresponde a fechas también, por lo que es un sólo tema de formato que se puede arreglar fácilmente, se le preguntará al negocio sólo por claridad el por qué del otro formato.\n",
    "\n",
    "Para facilitar los análisis y evitar inconsistencias o conclusiones erradas se va a estandarizar los datos, en este caso las fechas. "
   ]
  },
  {
   "cell_type": "markdown",
   "id": "d0630f5f-59f1-4428-b129-7c27a138ee4b",
   "metadata": {},
   "source": [
    "regla 5: Actualmente tenemos 13 proveedores"
   ]
  },
  {
   "cell_type": "code",
   "execution_count": 22,
   "id": "28dbcfbe-2676-4e04-a4ce-c105bb8a80a9",
   "metadata": {},
   "outputs": [
    {
     "name": "stdout",
     "output_type": "stream",
     "text": [
      "+-----------+------+\n",
      "|ProveedorID| count|\n",
      "+-----------+------+\n",
      "|        1.0|    10|\n",
      "|        4.0|  4103|\n",
      "|        7.0|  1922|\n",
      "|           |167624|\n",
      "+-----------+------+\n",
      "\n"
     ]
    }
   ],
   "source": [
    "movimientos_distinc.groupby('ProveedorID').count().show()"
   ]
  },
  {
   "cell_type": "code",
   "execution_count": null,
   "id": "426aab71-d45b-4b0a-bb99-c4fc2970809f",
   "metadata": {},
   "outputs": [],
   "source": [
    "obtener_dataframe_de_bd(db_connection_string, 'WWImportersTransactional.proveedoresCopia', db_user, db_psswd).show()\n",
    "# se intenta correr esta linea para revisar la tabla de proveedores pero no existe o no se tiene permisos para verla"
   ]
  },
  {
   "cell_type": "markdown",
   "id": "64128ffb-a3ba-4260-b0ca-246738a09cf2",
   "metadata": {},
   "source": [
    "El negocio dice que se tienen 13 proveedores, si con esto se refiere que en los movimientos que se ha tenido desde el 2013 se han tenido 13 proveedores, se ve en los datos que no es así. Se evidencias sólo 3 proveedores, ahora más del 97% de los datos están vacios. Toca preguntar a negocio sobre estos datos"
   ]
  },
  {
   "cell_type": "markdown",
   "id": "644d43b7-c161-4f67-b9ae-a60ee0ae6bd4",
   "metadata": {},
   "source": [
    "### Análisis descriptivo"
   ]
  },
  {
   "cell_type": "markdown",
   "id": "2f627c94-50a9-4465-b898-3e1b81f1f53d",
   "metadata": {},
   "source": [
    "A continuación procederemos a realizar un analisis descriptivo de la información"
   ]
  },
  {
   "cell_type": "code",
   "execution_count": 23,
   "id": "165d6822-ab43-4869-b3f6-bfb22374a93b",
   "metadata": {},
   "outputs": [
    {
     "name": "stdout",
     "output_type": "stream",
     "text": [
      "+-------+---------------------+------------------+-------------------+------------------+-----------------+------------------+------------------+--------------------+------------------+\n",
      "|summary|TransaccionProductoID|        ProductoID|  TipoTransaccionID|         ClienteID|        InvoiceID|       ProveedorID|   OrdenDeCompraID|    FechaTransaccion|          Cantidad|\n",
      "+-------+---------------------+------------------+-------------------+------------------+-----------------+------------------+------------------+--------------------+------------------+\n",
      "|  count|               173659|            173659|             173659|            173659|           173659|            173659|            173659|              173659|            173659|\n",
      "|   mean|   212512.83214230186|110.67377446605128| 10.035178136462838| 517.2418820792473|42972.01054365164| 4.950455675227838|1345.4538525269263|                null|  716.798081297255|\n",
      "| stddev|    71345.47913265007| 63.52289916336227|0.18538326660002657|353.49121646457587|16823.71871748735|1.4064689226723113| 420.4575308911124|                null|4718.7270534934305|\n",
      "|    min|                89146|                 1|                 10|               0.0|              0.0|                  |                  |2013-12-31 07:00:...|            -360.0|\n",
      "|    25%|               150701|                56|                 10|             145.0|          30150.0|               4.0|             984.0|                null|             -60.0|\n",
      "|    50%|               212402|               110|                 10|             511.0|          43564.0|               4.0|            1346.0|                null|              -9.0|\n",
      "|    75%|               274240|               166|                 10|             877.0|          56984.0|               7.0|            1709.0|                null|              -5.0|\n",
      "|    max|               336251|               227|                 12|            1061.0|          70510.0|               7.0|             999.0|         Sep 30,2015|           67368.0|\n",
      "+-------+---------------------+------------------+-------------------+------------------+-----------------+------------------+------------------+--------------------+------------------+\n",
      "\n"
     ]
    }
   ],
   "source": [
    "movimientos_distinc.summary().show()"
   ]
  },
  {
   "cell_type": "markdown",
   "id": "3e0afe96-aed6-4c1b-a638-d11ac0039fc1",
   "metadata": {},
   "source": [
    "Para las columnas TransaccionProductoID, ClienteID, InvoiceID, ProveedorID, OrdenDeCompraID no tiene mucho valor esté análisis númerico. Podemos ver que el promedio de la cantidad de productos movidos en una transacción es de 716, ahora estos valores son bien dispersos ya que la desviación estandar es 4718. Adicional podemos observar que tenemos cantidades negativas, antes el 75% de los datos pertenecen a cantidad negativas. Podemos ver que la fecha minima que tenemos es del 31 de diciembre del 2013 y fecha máxima 30 de septiembre del 2015."
   ]
  },
  {
   "cell_type": "code",
   "execution_count": 25,
   "id": "1ba69eb6-d5c9-4f05-8d76-62831eb6d040",
   "metadata": {},
   "outputs": [
    {
     "name": "stdout",
     "output_type": "stream",
     "text": [
      "+----------+-----+\n",
      "|ProductoID|count|\n",
      "+----------+-----+\n",
      "|        80| 1274|\n",
      "+----------+-----+\n",
      "only showing top 1 row\n",
      "\n"
     ]
    }
   ],
   "source": [
    "movimientos_distinc.groupby('ProductoID').count().orderBy(\"count\", ascending=False).show(1)"
   ]
  },
  {
   "cell_type": "code",
   "execution_count": 26,
   "id": "24235fcc-d158-4a72-8465-70aecc4898ad",
   "metadata": {},
   "outputs": [
    {
     "name": "stdout",
     "output_type": "stream",
     "text": [
      "+----------+-----+\n",
      "|ProductoID|count|\n",
      "+----------+-----+\n",
      "|       223|  117|\n",
      "+----------+-----+\n",
      "only showing top 1 row\n",
      "\n"
     ]
    }
   ],
   "source": [
    "movimientos_distinc.groupby('ProductoID').count().orderBy(\"count\", ascending=True).show(1)"
   ]
  },
  {
   "cell_type": "markdown",
   "id": "8663f612-e051-4702-bafb-38726932473d",
   "metadata": {},
   "source": [
    "Podemos observar el producto producto 80 es el que ha tenido un mayor número de transacciones 1274 veces y el producto con menor número de transacciones es el 223 con 117 transacciones."
   ]
  },
  {
   "cell_type": "code",
   "execution_count": 70,
   "id": "94afd3c2-4d1e-416d-b24e-69503bfacb36",
   "metadata": {},
   "outputs": [
    {
     "name": "stdout",
     "output_type": "stream",
     "text": [
      "+-----------------+------+\n",
      "|TipoTransaccionID| count|\n",
      "+-----------------+------+\n",
      "|               12|    37|\n",
      "|               10|167587|\n",
      "|               11|  6035|\n",
      "+-----------------+------+\n",
      "\n"
     ]
    }
   ],
   "source": [
    "movimientos_distinc.groupby('TipoTransaccionID').count().show()"
   ]
  },
  {
   "cell_type": "code",
   "execution_count": 71,
   "id": "af3da0cd-fab4-4981-9e90-41c7b601dfd5",
   "metadata": {},
   "outputs": [
    {
     "data": {
      "text/plain": [
       "array([[<AxesSubplot:title={'center':'TipoTransaccionID'}>]], dtype=object)"
      ]
     },
     "execution_count": 71,
     "metadata": {},
     "output_type": "execute_result"
    },
    {
     "data": {
      "image/png": "[encoded data removed]",
      "text/plain": [
       "<Figure size 432x288 with 1 Axes>"
      ]
     },
     "metadata": {
      "needs_background": "light"
     },
     "output_type": "display_data"
    }
   ],
   "source": [
    "movimientos_distinc.toPandas().hist(column='TipoTransaccionID')"
   ]
  },
  {
   "cell_type": "code",
   "execution_count": 29,
   "id": "08623e32-b6d3-4c0e-9ed8-eecd6ead0e56",
   "metadata": {},
   "outputs": [
    {
     "name": "stdout",
     "output_type": "stream",
     "text": [
      "+-----------------+---------------------+\n",
      "|TipoTransaccionID|TipoTransaccionNombre|\n",
      "+-----------------+---------------------+\n",
      "|                2| Customer Credit Note|\n",
      "|                3| Customer Payment ...|\n",
      "|                4|      Customer Refund|\n",
      "|                5|     Supplier Invoice|\n",
      "|                6| Supplier Credit Note|\n",
      "|                7| Supplier Payment ...|\n",
      "|                8|      Supplier Refund|\n",
      "|                9|       Stock Transfer|\n",
      "|               10|          Stock Issue|\n",
      "|               11|        Stock Receipt|\n",
      "|               12| Stock Adjustment ...|\n",
      "|               13|      Customer Contra|\n",
      "+-----------------+---------------------+\n",
      "\n"
     ]
    }
   ],
   "source": [
    "obtener_dataframe_de_bd(db_connection_string, 'WWImportersTransactional.TiposTransaccion', db_user, db_psswd).show()"
   ]
  },
  {
   "cell_type": "markdown",
   "id": "a3ebeacf-f249-4c35-bef3-257ff5b26e47",
   "metadata": {},
   "source": [
    "Podemos observar que la mayor razón de las transacciones se dieron por un problema con el stock, puede que por eso haya números negativos, por lo que toco reversar, ahora eso hay que preguntarlo a negocio. La razón que le sigue con 6035 incidencias es Stock Receipt y por último Stock Adjustment con 37."
   ]
  },
  {
   "cell_type": "code",
   "execution_count": 28,
   "id": "27c08bcc-6ac1-4fa8-9bd8-3e7243213fff",
   "metadata": {},
   "outputs": [
    {
     "name": "stdout",
     "output_type": "stream",
     "text": [
      "+---------+-----+\n",
      "|ClienteID|count|\n",
      "+---------+-----+\n",
      "|      0.0| 6072|\n",
      "|    980.0|  352|\n",
      "|    810.0|  341|\n",
      "|    185.0|  337|\n",
      "|    558.0|  336|\n",
      "|    149.0|  335|\n",
      "|    954.0|  334|\n",
      "|    804.0|  333|\n",
      "|    953.0|  331|\n",
      "|    118.0|  329|\n",
      "|   1011.0|  328|\n",
      "|     90.0|  326|\n",
      "|    438.0|  324|\n",
      "|     70.0|  324|\n",
      "|    545.0|  322|\n",
      "|    593.0|  320|\n",
      "|    548.0|  318|\n",
      "|    195.0|  318|\n",
      "|    132.0|  317|\n",
      "|    978.0|  317|\n",
      "+---------+-----+\n",
      "only showing top 20 rows\n",
      "\n"
     ]
    }
   ],
   "source": [
    "movimientos_distinc.groupby('ClienteID').count().orderBy(\"count\", ascending=False).show()"
   ]
  },
  {
   "cell_type": "markdown",
   "id": "598f5452-a136-4452-99fc-370ad53ffeef",
   "metadata": {},
   "source": [
    "Podemos observar que sin contar el 0.0 (vamos a validar más adelante si este cliente es valido) el cliente que ha realizado el mayor número de transacciones es el 980"
   ]
  },
  {
   "cell_type": "code",
   "execution_count": 29,
   "id": "09909faf-96bd-4d72-8377-4e20ae01dba6",
   "metadata": {},
   "outputs": [
    {
     "name": "stdout",
     "output_type": "stream",
     "text": [
      "+---------+-----+\n",
      "|InvoiceID|count|\n",
      "+---------+-----+\n",
      "|      0.0| 6072|\n",
      "|  53290.0|    5|\n",
      "|  43623.0|    5|\n",
      "|  55791.0|    5|\n",
      "|  64972.0|    5|\n",
      "|  21484.0|    5|\n",
      "|  22195.0|    5|\n",
      "|  29811.0|    5|\n",
      "|  39970.0|    5|\n",
      "|  67066.0|    5|\n",
      "|  69030.0|    5|\n",
      "|  56994.0|    5|\n",
      "|  68656.0|    5|\n",
      "|  22984.0|    5|\n",
      "|  67691.0|    5|\n",
      "|  54609.0|    5|\n",
      "|  42406.0|    5|\n",
      "|  62461.0|    5|\n",
      "|  55682.0|    5|\n",
      "|  64896.0|    5|\n",
      "+---------+-----+\n",
      "only showing top 20 rows\n",
      "\n"
     ]
    }
   ],
   "source": [
    "movimientos_distinc.groupby('InvoiceID').count().orderBy(\"count\", ascending=False).show()"
   ]
  },
  {
   "cell_type": "code",
   "execution_count": 30,
   "id": "773884f1-508e-4b06-9c4b-2bcb29ca10b7",
   "metadata": {},
   "outputs": [
    {
     "name": "stdout",
     "output_type": "stream",
     "text": [
      "+---------+-----+\n",
      "|InvoiceID|count|\n",
      "+---------+-----+\n",
      "|  47713.0|    1|\n",
      "|  34553.0|    1|\n",
      "|  37032.0|    1|\n",
      "|  28481.0|    1|\n",
      "|  56427.0|    1|\n",
      "|  20748.0|    1|\n",
      "|  45583.0|    1|\n",
      "|  24769.0|    1|\n",
      "|  50358.0|    1|\n",
      "|  70352.0|    1|\n",
      "|  62375.0|    1|\n",
      "|  66345.0|    1|\n",
      "|  46458.0|    1|\n",
      "|  70353.0|    1|\n",
      "|  37678.0|    1|\n",
      "|  66086.0|    1|\n",
      "|  45345.0|    1|\n",
      "|  25993.0|    1|\n",
      "|  44256.0|    1|\n",
      "|  47157.0|    1|\n",
      "+---------+-----+\n",
      "only showing top 20 rows\n",
      "\n"
     ]
    }
   ],
   "source": [
    "movimientos_distinc.groupby('InvoiceID').count().orderBy(\"count\", ascending=True).show()"
   ]
  },
  {
   "cell_type": "markdown",
   "id": "59ab59a2-6178-4f7a-b1f8-bb6f5179fdcd",
   "metadata": {},
   "source": [
    "Podemos observar que sin contar el 0.0 (vamos a validar más adelante si este id de factura es valido) el rango en que se ha hecho una transacción con una factura es de 1 a 5 veces"
   ]
  },
  {
   "cell_type": "code",
   "execution_count": 31,
   "id": "20faafe2-1aac-4760-9f2e-d124622a137c",
   "metadata": {},
   "outputs": [
    {
     "name": "stdout",
     "output_type": "stream",
     "text": [
      "+-----------+------+\n",
      "|ProveedorID| count|\n",
      "+-----------+------+\n",
      "|           |167624|\n",
      "|        4.0|  4103|\n",
      "|        7.0|  1922|\n",
      "|        1.0|    10|\n",
      "+-----------+------+\n",
      "\n"
     ]
    }
   ],
   "source": [
    "movimientos_distinc.groupby('ProveedorID').count().orderBy(\"count\", ascending=False).show()"
   ]
  },
  {
   "cell_type": "markdown",
   "id": "46ad0fb4-d774-4731-a285-dee880ecd03c",
   "metadata": {},
   "source": [
    "Para el proveedorID hay registro de sólo 3 proveedores y el que tiene mayor número de transacciones es el proveedor 4 ya que el espacio en blanco no da información"
   ]
  },
  {
   "cell_type": "code",
   "execution_count": 32,
   "id": "edfa727d-2815-47ea-bf69-2a076131d70d",
   "metadata": {},
   "outputs": [
    {
     "name": "stdout",
     "output_type": "stream",
     "text": [
      "+---------------+------+\n",
      "|OrdenDeCompraID| count|\n",
      "+---------------+------+\n",
      "|               |167624|\n",
      "|         1456.0|     6|\n",
      "|          807.0|     6|\n",
      "|          784.0|     6|\n",
      "|          673.0|     6|\n",
      "|         1496.0|     6|\n",
      "|         1420.0|     6|\n",
      "|         1192.0|     6|\n",
      "|         1571.0|     6|\n",
      "|         1560.0|     6|\n",
      "|          675.0|     6|\n",
      "|         1556.0|     6|\n",
      "|          942.0|     6|\n",
      "|         1542.0|     6|\n",
      "|         1812.0|     6|\n",
      "|          602.0|     6|\n",
      "|         1153.0|     6|\n",
      "|         1135.0|     6|\n",
      "|         1045.0|     6|\n",
      "|         1706.0|     6|\n",
      "+---------------+------+\n",
      "only showing top 20 rows\n",
      "\n"
     ]
    }
   ],
   "source": [
    "movimientos_distinc.groupby('OrdenDeCompraID').count().orderBy(\"count\", ascending=False).show()"
   ]
  },
  {
   "cell_type": "code",
   "execution_count": 33,
   "id": "fb776e09-1a4a-4df8-92cb-e79fa83e0408",
   "metadata": {},
   "outputs": [
    {
     "name": "stdout",
     "output_type": "stream",
     "text": [
      "+---------------+-----+\n",
      "|OrdenDeCompraID|count|\n",
      "+---------------+-----+\n",
      "|         1610.0|    1|\n",
      "|         1048.0|    1|\n",
      "|          728.0|    1|\n",
      "|         1763.0|    1|\n",
      "|         1717.0|    1|\n",
      "|          705.0|    1|\n",
      "|         1400.0|    1|\n",
      "|         1910.0|    1|\n",
      "|         1954.0|    1|\n",
      "|          727.0|    1|\n",
      "|         1002.0|    1|\n",
      "|         1354.0|    1|\n",
      "|         1225.0|    1|\n",
      "|         1459.0|    1|\n",
      "|         2024.0|    1|\n",
      "|         1494.0|    1|\n",
      "|         1921.0|    1|\n",
      "|          716.0|    1|\n",
      "|          945.0|    1|\n",
      "|         1516.0|    1|\n",
      "+---------------+-----+\n",
      "only showing top 20 rows\n",
      "\n"
     ]
    }
   ],
   "source": [
    "movimientos_distinc.groupby('OrdenDeCompraID').count().orderBy(\"count\", ascending=True).show()"
   ]
  },
  {
   "cell_type": "markdown",
   "id": "06fd2d4a-d6c6-452e-ab9f-a95f1f1d440f",
   "metadata": {},
   "source": [
    "Para el OrdenDeCompraID el rango en que se ha hecho una transacción con una orden es de 1 a 6 veces. Teniendo en cuenta que ya que el espacio en blanco no da información"
   ]
  },
  {
   "cell_type": "markdown",
   "id": "3a5309fc-8960-48e7-9034-8930e8b701b4",
   "metadata": {},
   "source": [
    "## Análisis de calidad de datos"
   ]
  },
  {
   "cell_type": "markdown",
   "id": "faa09832-f450-46a3-a613-3d0d63e5c26f",
   "metadata": {},
   "source": [
    "### Completitud y validez"
   ]
  },
  {
   "cell_type": "code",
   "execution_count": 34,
   "id": "a39d6998-24cc-448a-a98b-26a92eb155bb",
   "metadata": {},
   "outputs": [
    {
     "name": "stdout",
     "output_type": "stream",
     "text": [
      "Columnas con datos vacios\n",
      "número de vacíos para columna ProveedorID: 167624\n",
      "número de vacíos para columna OrdenDeCompraID: 167624\n",
      "Cardinalidad\n"
     ]
    },
    {
     "data": {
      "text/plain": [
       "{'TransaccionProductoID': 173659}"
      ]
     },
     "execution_count": 34,
     "metadata": {},
     "output_type": "execute_result"
    }
   ],
   "source": [
    "print(\"Columnas con datos vacios\")\n",
    "columnas_vacias_movimientos = contar_vacios(movimientos_distinc)\n",
    "columnas_alta_cardinalidad_movimientos = cardinalidad(movimientos_distinc)\n",
    "print(\"Cardinalidad\")\n",
    "columnas_alta_cardinalidad_movimientos"
   ]
  },
  {
   "cell_type": "code",
   "execution_count": 35,
   "id": "8b6579b0-e536-4ff6-b4ef-8b6316ddad20",
   "metadata": {},
   "outputs": [
    {
     "data": {
      "text/plain": [
       "6072"
      ]
     },
     "execution_count": 35,
     "metadata": {},
     "output_type": "execute_result"
    }
   ],
   "source": [
    "movimientos_distinc.filter(movimientos_distinc[\"ClienteID\"] == 0.0).count()"
   ]
  },
  {
   "cell_type": "code",
   "execution_count": 36,
   "id": "e059d124-d1cf-402f-a587-81f9e0bdbbab",
   "metadata": {},
   "outputs": [
    {
     "data": {
      "text/plain": [
       "6072"
      ]
     },
     "execution_count": 36,
     "metadata": {},
     "output_type": "execute_result"
    }
   ],
   "source": [
    "movimientos_distinc.filter(movimientos_distinc[\"InvoiceID\"] == 0.0).count()"
   ]
  },
  {
   "cell_type": "code",
   "execution_count": 37,
   "id": "eb87c518-a377-4ebf-845f-d4386f0faa72",
   "metadata": {},
   "outputs": [
    {
     "name": "stdout",
     "output_type": "stream",
     "text": [
      "+----------+--------------------+--------------+------------+--------------+----------------+-------------+-------------------+--------+\n",
      "|ID_Cliente|              Nombre|ClienteFactura|ID_Categoria|ID_GrupoCompra|ID_CiudadEntrega|LimiteCredito|FechaAperturaCuenta|DiasPago|\n",
      "+----------+--------------------+--------------+------------+--------------+----------------+-------------+-------------------+--------+\n",
      "|         1|Tailspin Toys (He...|             1|           3|             1|           19586|         null|2013-01-01 00:00:00|       7|\n",
      "|         2|Tailspin Toys (Sy...|             1|           3|             1|           33475|         null|2013-01-01 00:00:00|       7|\n",
      "|         3|Tailspin Toys (Pe...|             1|           3|             1|           26483|         null|2013-01-01 00:00:00|       7|\n",
      "|         4|Tailspin Toys (Me...|             1|           3|             1|           21692|         null|2013-01-01 00:00:00|       7|\n",
      "|         5|Tailspin Toys (Ga...|             1|           3|             1|           12748|         null|2013-01-01 00:00:00|       7|\n",
      "|         6|Tailspin Toys (Je...|             1|           3|             1|           17054|         null|2013-01-01 00:00:00|       7|\n",
      "|         7|Tailspin Toys (Fr...|             1|           3|             1|           12152|         null|2013-01-01 00:00:00|       7|\n",
      "|         8|Tailspin Toys (Bo...|             1|           3|             1|            3673|         null|2013-01-01 00:00:00|       7|\n",
      "|         9|Tailspin Toys (Ne...|             1|           3|             1|           23805|         null|2013-01-01 00:00:00|       7|\n",
      "|        10|Tailspin Toys (Wi...|             1|           3|             1|           37403|         null|2013-01-01 00:00:00|       7|\n",
      "|        11|Tailspin Toys (De...|             1|           3|             1|            8987|         null|2013-01-01 00:00:00|       7|\n",
      "|        12|Tailspin Toys (Bi...|             1|           3|             1|            3081|         null|2013-01-01 00:00:00|       7|\n",
      "|        13|Tailspin Toys (St...|             1|           3|             1|           32887|         null|2013-01-01 00:00:00|       7|\n",
      "|        14|Tailspin Toys (Lo...|             1|           3|             1|           19908|         null|2013-01-01 00:00:00|       7|\n",
      "|        15|Tailspin Toys (Ba...|             1|           3|             1|            2111|         null|2013-01-01 00:00:00|       7|\n",
      "|        16|Tailspin Toys (Co...|             1|           3|             1|            7409|         null|2013-01-01 00:00:00|       7|\n",
      "|        17|Tailspin Toys (Ea...|             1|           3|             1|            9791|         null|2013-01-01 00:00:00|       7|\n",
      "|        18|Tailspin Toys (Go...|             1|           3|             1|           13304|         null|2013-01-01 00:00:00|       7|\n",
      "|        19|Tailspin Toys (Le...|             1|           3|             1|           19124|         null|2013-01-01 00:00:00|       7|\n",
      "|        20|Tailspin Toys (Co...|             1|           3|             1|            7160|         null|2013-01-01 00:00:00|       7|\n",
      "+----------+--------------------+--------------+------------+--------------+----------------+-------------+-------------------+--------+\n",
      "only showing top 20 rows\n",
      "\n"
     ]
    }
   ],
   "source": [
    "obtener_dataframe_de_bd(db_connection_string, 'WWImportersTransactional.Clientes', db_user, db_psswd).orderBy(\"ID_Cliente\", ascending=True).show()"
   ]
  },
  {
   "cell_type": "markdown",
   "id": "def449b1-4495-4177-970b-fc73fd7f2402",
   "metadata": {},
   "source": [
    "Podemos observar que las columnas que tienen datos faltantes son ClienteID, InvoiceID, ProveedorID y OrdenDeCompraID, para los primeros 2  tienen 6072 valores en 0, aunque esto es un valor no corresponde a uno de un ID. Para los últimos 2 presenta un número elevado de valores de string vacioes 197182. Los campos ProveedorID y OrdenDeCompraID son muy dificiles completar ya que más del 97% está haciendo falta, no sería posible recontruir de alguna manera que sea significativo el valor. Queda hablar con el negocio si pueden facilitar este dato o proguntar la relevancia de estos datos en esta tabla para poder tener la opción de eliminar esas columnas"
   ]
  },
  {
   "cell_type": "markdown",
   "id": "1885e930-1478-4721-a6f7-c5447f86df85",
   "metadata": {},
   "source": [
    "La única columna que sale con mayor cardinalidad del 50% es TransaccionProductoID y es normal poque sus valores deben ser unicos por ser la llave primaría"
   ]
  },
  {
   "cell_type": "markdown",
   "id": "0fb1e7e8-9bef-4d66-98ee-17957b945704",
   "metadata": {},
   "source": [
    "En el análisis estadístico vimos que Cantidad tiene números negativos y el 75% de los datos se distribuyen en estos valores. Es bueno preguntar al negocio si tiene sentido y cuál sería el significado, ya que si no es valido sería dificil hacer análisis a estos datos ya que este campo es de los más relevantes y la mayoría no sería valido."
   ]
  },
  {
   "cell_type": "markdown",
   "id": "39e5f136-a8be-43d3-8167-26314b06fa38",
   "metadata": {},
   "source": [
    "El negocio dice que se tienen 13 proveedores, si con esto se refiere que en los movimientos que se ha tenido desde el 2013 se han tenido 13 proveedores, se ve en los datos que no es así. Se evidencian sólo 3 proveedores, ahora más del 97% de los datos están vacios. Toca preguntar a negocio sobre estos datos"
   ]
  },
  {
   "cell_type": "markdown",
   "id": "db8f1591-dcbf-46a8-ace7-cbf42de3f93f",
   "metadata": {},
   "source": [
    "Como se menciono anteriormente hay 64,254 registros cuya fecha no cumple con el formato YYYY-MM-DD HH:MM:SS. Sin embargo, los valores corresponde a fechas también, por lo que es un sólo tema de formato que se puede arreglar fácilmente, se le preguntará al negocio sólo por claridad el por qué del otro formato.\n",
    "\n",
    "Para facilitar los análisis y evitar inconsistencias o conclusiones erradas se va a estandarizar los datos, en este caso las fechas. "
   ]
  },
  {
   "cell_type": "markdown",
   "id": "00c4f2df-a7a2-48c8-b7c1-bc689a72cd5c",
   "metadata": {},
   "source": [
    "Aunque vemos que las columnas de clienteID y TransaccionProductoID no tienen números nulos, no se cumple con los números proporcionados por el negocio en ambos hacen falta."
   ]
  },
  {
   "cell_type": "markdown",
   "id": "ad3bba5d-735c-4bb3-b4c3-efeae7c2045e",
   "metadata": {},
   "source": [
    "Podemos ver que hay una cantidad significativamente menor de clientes relacionados a los movimientos (hacen falta 227,601), toca preguntar al negocio si hace falta registros que nos pasen."
   ]
  },
  {
   "cell_type": "markdown",
   "id": "0dc5004a-3025-43b1-80d0-8ce9ec3e9a66",
   "metadata": {},
   "source": [
    "Podemos ver que hay una menor cantidad de movimientos de productos desde el 2013 (hacen falta 63,009), toca preguntar al negocio si hace falta registros que nos pasen."
   ]
  },
  {
   "cell_type": "markdown",
   "id": "45dc3d2f-bcfe-4d25-80f5-c4d19720fbfa",
   "metadata": {},
   "source": [
    "### Unicidad y validez\n"
   ]
  },
  {
   "cell_type": "code",
   "execution_count": 38,
   "id": "a13e553b-12a8-49f3-aa58-90b6f02a8411",
   "metadata": {},
   "outputs": [
    {
     "name": "stdout",
     "output_type": "stream",
     "text": [
      "Conteo de registros: 204292\n",
      "Conteo de registros únicos: 173659\n"
     ]
    }
   ],
   "source": [
    "print('Conteo de registros: {0}'.format(movimientos.count()))\n",
    "print('Conteo de registros únicos: {0}'.format(movimientos.distinct().count()))"
   ]
  },
  {
   "cell_type": "markdown",
   "id": "ff16e190-e5f8-4b21-849e-b7bae8e6b388",
   "metadata": {},
   "source": [
    "Podemos observar que en realidad se cuentan con 173659 registros únicos, lo otros valores son repetidos."
   ]
  },
  {
   "cell_type": "markdown",
   "id": "eaa394c1-fa13-4ca8-bcd6-8f03044ca586",
   "metadata": {},
   "source": [
    "### Consistencia y validez"
   ]
  },
  {
   "cell_type": "markdown",
   "id": "e0725e1c-ee14-4cdc-b0e0-eb62beaafbb2",
   "metadata": {},
   "source": [
    "Vemos una inconsitencia structural ya que tenemos varios valores de ID los cuales se ven que son númericos pero vemos que están con diferente tipos de dato TransaccionProductoID, ProductoID, TipoTransaccionID son enteros, ClienteID, InvoiceID son flotantes y ProveedorID, OrdenDeCompraID son de tipo string "
   ]
  },
  {
   "cell_type": "markdown",
   "id": "755711b3-44b6-4346-be77-c6e29e27e5a0",
   "metadata": {},
   "source": [
    "Vemos un inconsitencia semántica en FechaTransaccion que aunque todos son valores de fecha se manejan dos tipos de formatos de fecha."
   ]
  },
  {
   "cell_type": "markdown",
   "id": "2f9d8f77-a4cb-49c6-8f49-8c35841f225a",
   "metadata": {},
   "source": [
    "Toca confirmar con negocio si Cantidad puede tener números negativos, de ser así estariamos con una inconsitencia de contendio"
   ]
  },
  {
   "cell_type": "markdown",
   "id": "7264750e-b336-4c47-8bb3-da13045e99c0",
   "metadata": {},
   "source": [
    "## Conclusiones"
   ]
  },
  {
   "cell_type": "markdown",
   "id": "5257daa7-5c6d-4bb0-9c5f-6b86a5c877e7",
   "metadata": {},
   "source": [
    "**Conclusiones generales:**\n",
    "\n",
    "1. Para la tabla de movimientos tenemos información **relacionada con un tipo de transacción  que realizo un cliente de una cantidad de productos en una fecha especifica, adicional muestra información del recibo, proovedor y orden de compra.**.\n",
    "\n",
    "2. Tenemos registros desde la fecha del 31 de diciembre del 2013 y hasta 30 de septiembre del 2015\n",
    "\n",
    "2. ¿Dónde se puede tener un poco más de información sobre poovedores y facturas, no sé encuentran las tablas en la db de WWImportersTransactional?\n",
    "\n",
    "**Conclusiones de reglas de negocio:**\n",
    "\n",
    "1. La regla 1 no se puede dar respuesta exacta hasta que el negocio aclaré ¿ qué entiende por viaje y de dónde se puede sacar está información? Si nos referimos al mayor número de movimientos que ha tenido una transacción se puede decir que es 67368 y no 50 millones\n",
    "\n",
    "2. La regla 2 no es cierta dado que el número de registros no parece coincidir con el número dado por el negocio, Hay 204292 registros de transacciones de los cuales 30,633 son transacciones completamente repetidas, lo que nos da un número de 173659 transacciones únicas. Como son completamente repetidos se pueden eliminar.\n",
    "\n",
    "3. La regla 3 no es cierta dado que el número de registros no parece coincidir con el número dado por el negocio, hay una cantidad significativamente menor de clientes relacionados (663) a los movimientos (hacen falta 227,602) ¿ de dónde sacan ellos ese número tan diferente?.\n",
    "\n",
    "4. La regla 4 no es del todo cierta ya que hay 64,254 registros cuya fecha no cumple con el formato especificado. Sin embargo, los valores corresponde a fechas también, por lo que es un sólo tema de formato que se puede arreglar fácilmente, se le preguntará al negocio sólo por claridad el por qué del otro formato.Para facilitar los análisis y evitar inconsistencias o conclusiones erradas se va a estandarizar los datos, en este caso las fechas. ¿ están de acuerdo qué todas las fecha queden en formato  YYYY-MM-DD HH:MM:SS o por qué aparece el otro formado Mon DD, yyyy?\n",
    "\n",
    "5. El negocio dice que se tienen 13 proveedores, si con esto se refiere que en los movimientos que se ha tenido desde el 2013 se han tenido 13 proveedores, se ve en los datos que no es así. Se evidencias sólo 3 proveedores, ahora más del 97% de los datos están vacios. ¿ o se refieren que en la tabla proveedores tienen 13, dónde se puede encontrar esa información ?\n",
    "\n",
    "\n",
    "**Conclusiones de calidad:**\n",
    "\n",
    "1. Los campos que tienen datos faltantes son ClienteID, InvoiceID, ProveedorID y OrdenDeCompraID, para los primeros 2  tienen 6072 valores en 0, aunque esto es un valor no corresponde a uno de un ID. Para los últimos 2 presenta un número elevado de valores de string vacioes 197182.Los campos ProveedorID y OrdenDeCompraID son muy dificiles completar ya que más del 97% está haciendo falta, no sería posible recontruir de alguna manera que sea significativo el valor. ¿ está de acuerdo el negocio de eliminar los campo ProveedorID y OrdenDeCompraID ? para los campos ClienteID, InvoiceID ¿ Es posible conseguir la información faltante ?\n",
    "\n",
    "2. La única columna que sale con mayor cardinalidad del 50% es TransaccionProductoID y es normal poque sus valores deben ser únicos\n",
    "\n",
    "3. Lo valores del campo Cantidad tiene números negativos y el 75% de los datos se distribuyen en estos valores. ¿ Es correcto tener números negaticos? si si, ¿ qué significado tienen?\n",
    "\n",
    "4. Vemos una inconsitencia structural ya que tenemos varios valores de ID los cuales se ven que son númericos pero vemos que están con diferente tipos de dato TransaccionProductoID, ProductoID, TipoTransaccionID son enteros, ClienteID, InvoiceID son flotantes y ProveedorID, OrdenDeCompraID son de tipo string ¿ El negocio daría autorización para rectificar esto?\n",
    "\n",
    "5. La única columna que sale con mayor cardinalidad del 50% es TransaccionProductoID y es normal poque sus valores deben ser unicos  \n",
    "\n",
    "**Sección de variables del reporte:**\n",
    "\n",
    "\n",
    "1. La variable ProductoID tiene como producto 80 el mayor número de transacciones 1274 veces y el producto con menor número de transacciones es el 223 con 117 transacciones. \n",
    "\n",
    "2. La variable TipoTransaccionID reporta sólo 3 tipos de transacciones la 10, 11 y 12. La 10 es la que aparece 97% de los casos\n",
    "\n",
    "3. Hay 663 clientes (variable ClienteID) del cuál el cliente con mayor número de transacciones es el 980\n",
    "\n",
    "4. El rango en que se ha hecho una transacción con una factura es de 1 a 5 veces (variable InvoiceID)\n",
    "\n",
    "5. Para el proveedorID hay registro de sólo 3 proveedores y el que tiene mayor número de transacciones es el proveedor 4. Está variable no se puede tomar, excepto que el negocio ajuste la información ya que más del 97% de los datos están vacios\n",
    "\n",
    "6.  Para el OrdenDeCompraID el rango en que se ha hecho una transacción con una orden es de 1 a 6 veces. Está variable no se puede tomar, excepto que el negocio ajuste la información ya que más del 97% de los datos están vacios\n",
    "\n",
    "7. Tenemos registros desde la fecha del 31 de diciembre del 2013 y hasta 30 de septiembre del 2015\n",
    "\n",
    "8. Podemos ver que el promedio de la cantidad de productos movidos en una transacción es de 716, ahora estos valores son bien dispersos ya que la desviación estandar es 4718. Adicional podemos observar que tenemos cantidades negativas, antes el 75% de los datos pertenecen a cantidad negativas\n",
    "\n",
    "\n",
    "\n",
    "![Requerimiento](./requerimientos.png)\n",
    "\n",
    "Teniendo en cuenta el requerimiento de WWI, consideramos que es posible llevar a cabo una solucióon pues contamos con la información necesaria especificada en el análisis requerido, sin embargo es necesario realizar correcciones a los datos y obtener aclaraciones de parte del negocio para entender completamente la necesidad de negocio\n"
   ]
  }
 ],
 "metadata": {
  "kernelspec": {
   "display_name": "Python 3 (ipykernel)",
   "language": "python",
   "name": "python3"
  },
  "language_info": {
   "codemirror_mode": {
    "name": "ipython",
    "version": 3
   },
   "file_extension": ".py",
   "mimetype": "text/x-python",
   "name": "python",
   "nbconvert_exporter": "python",
   "pygments_lexer": "ipython3",
   "version": "3.7.13"
  }
 },
 "nbformat": 4,
 "nbformat_minor": 5
}
